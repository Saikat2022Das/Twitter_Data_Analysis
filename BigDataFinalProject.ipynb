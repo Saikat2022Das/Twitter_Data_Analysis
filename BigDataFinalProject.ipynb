{
 "cells": [
  {
   "cell_type": "code",
   "execution_count": null,
   "metadata": {
    "colab": {
     "base_uri": "https://localhost:8080/"
    },
    "id": "1jNUpdnKs_KC",
    "outputId": "f6e0f89b-7f47-4aa3-c612-4d11ec5240f0"
   },
   "outputs": [
    {
     "name": "stdout",
     "output_type": "stream",
     "text": [
      "Drive already mounted at /content/drive; to attempt to forcibly remount, call drive.mount(\"/content/drive\", force_remount=True).\n"
     ]
    }
   ],
   "source": [
    "from google.colab import drive\n",
    "drive.mount('/content/drive')"
   ]
  },
  {
   "cell_type": "code",
   "execution_count": null,
   "metadata": {
    "colab": {
     "base_uri": "https://localhost:8080/"
    },
    "id": "4B9GuOrUBBga",
    "outputId": "0aee46f4-5874-4c3c-f482-1706e980eb46"
   },
   "outputs": [
    {
     "name": "stdout",
     "output_type": "stream",
     "text": [
      "Looking in indexes: https://pypi.org/simple, https://us-python.pkg.dev/colab-wheels/public/simple/\n",
      "Requirement already satisfied: findspark in /usr/local/lib/python3.10/dist-packages (2.0.1)\n"
     ]
    }
   ],
   "source": [
    "!pip install findspark"
   ]
  },
  {
   "cell_type": "code",
   "execution_count": null,
   "metadata": {
    "colab": {
     "base_uri": "https://localhost:8080/"
    },
    "id": "AS37JyErBI07",
    "outputId": "92493cc5-3b73-452b-face-38cc6b3ea88e"
   },
   "outputs": [
    {
     "name": "stdout",
     "output_type": "stream",
     "text": [
      "Looking in indexes: https://pypi.org/simple, https://us-python.pkg.dev/colab-wheels/public/simple/\n",
      "Requirement already satisfied: pyspark in /usr/local/lib/python3.10/dist-packages (3.4.0)\n",
      "Requirement already satisfied: py4j==0.10.9.7 in /usr/local/lib/python3.10/dist-packages (from pyspark) (0.10.9.7)\n"
     ]
    }
   ],
   "source": [
    "!pip install pyspark"
   ]
  },
  {
   "cell_type": "code",
   "execution_count": null,
   "metadata": {
    "id": "lsfpoyk9DVDr"
   },
   "outputs": [],
   "source": [
    "import time\n",
    "\n",
    "import findspark\n",
    "findspark.init()\n",
    "import pyspark\n",
    "import numpy as np\n",
    "from pyspark.sql import SparkSession\n",
    "from pyspark.sql.types import StructType, StructField, IntegerType, StringType, DoubleType, DateType\n",
    "from pyspark.ml.feature import HashingTF, IDF, Tokenizer, StringIndexer, CountVectorizer, NGram, VectorAssembler, ChiSqSelector\n",
    "from pyspark.ml import Pipeline\n",
    "from pyspark.ml.classification import LogisticRegression\n",
    "from pyspark.ml.evaluation import MulticlassClassificationEvaluator\n",
    "from pyspark.ml.tuning import ParamGridBuilder, CrossValidator\n",
    "\n",
    "from pyspark.ml import Transformer\n",
    "from pyspark.sql import DataFrame\n",
    "from pyspark.ml.feature import StopWordsRemover\n",
    "import re"
   ]
  },
  {
   "cell_type": "code",
   "execution_count": null,
   "metadata": {
    "id": "65I6F2oaDWH8"
   },
   "outputs": [],
   "source": [
    "spark1 = SparkSession.builder.master(\"local[16]\").appName(\"TOT\") .getOrCreate()"
   ]
  },
  {
   "cell_type": "code",
   "execution_count": null,
   "metadata": {
    "id": "4vPbhPmETSfY"
   },
   "outputs": [],
   "source": [
    "import pandas as pd\n",
    "df = pd.read_csv(\"/content/drive/MyDrive/training_noemoticon.csv\", encoding='latin-1')"
   ]
  },
  {
   "cell_type": "code",
   "execution_count": null,
   "metadata": {
    "colab": {
     "base_uri": "https://localhost:8080/"
    },
    "id": "lRhdaOpjTg3t",
    "outputId": "44adc2c0-51ac-42c7-f490-f34562755b83"
   },
   "outputs": [
    {
     "data": {
      "text/plain": [
       "1000000"
      ]
     },
     "execution_count": 9,
     "metadata": {},
     "output_type": "execute_result"
    }
   ],
   "source": [
    "from numpy.random import default_rng\n",
    "\n",
    "arr_indices_top_drop = default_rng().choice(df.index, size=40000, replace=False)\n",
    "df = df.drop(index=arr_indices_top_drop)\n",
    "len(df)"
   ]
  },
  {
   "cell_type": "code",
   "execution_count": null,
   "metadata": {
    "colab": {
     "base_uri": "https://localhost:8080/"
    },
    "id": "yjhLMXfEDdHF",
    "outputId": "948bc426-1b52-498d-abee-75bef0e304d7"
   },
   "outputs": [
    {
     "data": {
      "text/plain": [
       "DataFrame[target: int, id: string, date: string, query: string, author: string, tweet: string]"
      ]
     },
     "execution_count": 10,
     "metadata": {},
     "output_type": "execute_result"
    }
   ],
   "source": [
    "# path = \"/content/training_noemoticon.csv\"\n",
    "\n",
    "schema = StructType([\n",
    "    StructField(\"target\", IntegerType(), True),\n",
    "    StructField(\"id\", StringType(), True),\n",
    "    StructField(\"date\", StringType(), True),\n",
    "    StructField(\"query\", StringType(), True),\n",
    "    StructField(\"author\", StringType(), True),\n",
    "    StructField(\"tweet\", StringType(), True)])\n",
    "\n",
    "# df = spark1.read.csv(path, inferSchema=True, header=False, schema=schema)\n",
    "df = spark1.createDataFrame(df, schema = schema) \n",
    "df.dropna()"
   ]
  },
  {
   "cell_type": "code",
   "execution_count": null,
   "metadata": {
    "id": "Ea8SZhClDjVS"
   },
   "outputs": [],
   "source": [
    "class WordFormatter(Transformer):\n",
    "    def __init__(self, *, inputCol, outputCol):\n",
    "\n",
    "        super(WordFormatter, self).__init__()\n",
    "        self.regpat = re.compile(r'(https|http)?:\\/\\/(\\w|\\.|\\/|\\?|\\=|\\&|\\%)*\\b')\n",
    "        self.ponc = [',', '.', '?', '-']\n",
    "        self.inputCol = inputCol\n",
    "        self.outputCol = outputCol\n",
    "\n",
    "    def stopw(self, wt):\n",
    "\n",
    "        filtered_sentence = []\n",
    "\n",
    "        # for all the words\n",
    "        for w in wt[\"filtered\"]:\n",
    "            wrd = w.strip().lower()\n",
    "\n",
    "            # we check if the unwanted punctuation is present, we remove it if yes\n",
    "            for char in self.ponc:\n",
    "                wrd = wrd.replace(char, '')\n",
    "\n",
    "            # we do not keep words with a URL, empty word, word ' ' or words with '@'\n",
    "            if not re.fullmatch(self.regpat, wrd) and wrd != ' ' and wrd != '' and '@' not in wrd:\n",
    "                filtered_sentence.append(wrd)\n",
    "\n",
    "        # returns the row as it was but with our list added\n",
    "        return wt[0], wt[1], wt[2], wt[3], wt[4], wt[5], wt[6], filtered_sentence\n",
    "\n",
    "    def _transform(self, dtf: DataFrame) -> DataFrame:\n",
    "\n",
    "        # apply PySpark's stop words\n",
    "        rem = StopWordsRemover(inputCol=self.inputCol, outputCol=\"filtered\")\n",
    "        ndtf = rem.transform(dtf)\n",
    "\n",
    "        # apply our additional function to better filter\n",
    "        rdd = ndtf.rdd.map(lambda x: self.stopw(x))\n",
    "        ndtf = rdd.toDF()\n",
    "\n",
    "        # reset the starting column names\n",
    "        official_col = ['target', 'id', 'date', 'query', 'author', 'tweet', self.inputCol, self.outputCol]\n",
    "\n",
    "        for old, new in zip(ndtf.columns, official_col):\n",
    "            ndtf = ndtf.withColumnRenamed(old, new)\n",
    "\n",
    "        return ndtf"
   ]
  },
  {
   "cell_type": "code",
   "execution_count": null,
   "metadata": {
    "id": "aAsivwW-D19Z"
   },
   "outputs": [],
   "source": [
    "(train_set, test_set) = df.randomSplit([0.80, 0.20], seed = 2000)"
   ]
  },
  {
   "cell_type": "code",
   "execution_count": null,
   "metadata": {
    "colab": {
     "base_uri": "https://localhost:8080/"
    },
    "id": "GK82O3FeDOgq",
    "outputId": "b11d1984-ab93-4f44-bdb7-9e0cfe0c994b"
   },
   "outputs": [
    {
     "name": "stdout",
     "output_type": "stream",
     "text": [
      "DataFrame[target: int, id: string, date: string, query: string, author: string, tweet: string]\n"
     ]
    }
   ],
   "source": [
    "print(test_set)"
   ]
  },
  {
   "cell_type": "code",
   "execution_count": null,
   "metadata": {
    "colab": {
     "base_uri": "https://localhost:8080/"
    },
    "id": "olRXa-flUowy",
    "outputId": "79148e5f-cde7-4a2f-fc1b-6c7f34f42954"
   },
   "outputs": [
    {
     "name": "stdout",
     "output_type": "stream",
     "text": [
      "root\n",
      " |-- target: integer (nullable = true)\n",
      " |-- id: string (nullable = true)\n",
      " |-- date: string (nullable = true)\n",
      " |-- query: string (nullable = true)\n",
      " |-- author: string (nullable = true)\n",
      " |-- tweet: string (nullable = true)\n",
      "\n"
     ]
    }
   ],
   "source": [
    "df.printSchema()"
   ]
  },
  {
   "cell_type": "markdown",
   "metadata": {
    "id": "e6QdWTEXSaxq"
   },
   "source": [
    "Logistic Regression"
   ]
  },
  {
   "cell_type": "markdown",
   "metadata": {
    "id": "Rqbi9auHMLJa"
   },
   "source": [
    "HashingTF - IDF\n"
   ]
  },
  {
   "cell_type": "code",
   "execution_count": null,
   "metadata": {
    "id": "FmxrxxMODrZ_"
   },
   "outputs": [],
   "source": [
    "tokenizer = Tokenizer(inputCol=\"tweet\", outputCol=\"tk\")\n",
    "wordform = WordFormatter(inputCol=\"tk\", outputCol=\"words\")\n",
    "\n",
    "hashtf = HashingTF(inputCol=\"words\", outputCol='tf')\n",
    "\n",
    "idf = IDF(inputCol='tf', outputCol=\"features\")\n",
    "\n",
    "label_stringIdx = StringIndexer(inputCol = \"target\", outputCol = \"label\")\n",
    "\n",
    "lr = LogisticRegression()\n",
    "evaluator = MulticlassClassificationEvaluator(predictionCol=\"prediction\")\n",
    "\n",
    "pipeline = Pipeline(stages=[tokenizer, wordform, hashtf, idf, label_stringIdx, lr])"
   ]
  },
  {
   "cell_type": "code",
   "execution_count": null,
   "metadata": {
    "id": "9hSL68V4Du8i"
   },
   "outputs": [],
   "source": [
    "%%time\n",
    "pipelineFit = pipeline.fit(train_set)\n",
    "\n",
    "predictions = pipelineFit.transform(test_set)\n",
    "\n",
    "accuracy = evaluator.evaluate(predictions, {evaluator.metricName: \"accuracy\"})\n",
    "precision = evaluator.evaluate(predictions, {evaluator.metricName: \"weightedPrecision\"})\n",
    "recall = evaluator.evaluate(predictions, {evaluator.metricName: \"weightedRecall\"})\n",
    "\n",
    "# Print the results\n",
    "print(\"Accuracy:\", accuracy)\n",
    "print(\"Precision:\", precision)\n",
    "print(\"Recall:\", recall)"
   ]
  },
  {
   "cell_type": "code",
   "execution_count": null,
   "metadata": {
    "colab": {
     "base_uri": "https://localhost:8080/"
    },
    "id": "_aSEO0G8Q7U4",
    "outputId": "98a9e852-128b-49fd-a890-3b3e4a8acd37"
   },
   "outputs": [
    {
     "name": "stdout",
     "output_type": "stream",
     "text": [
      "+------+----------+--------------------+--------+--------------+--------------------+\n",
      "|target|        id|                date|   query|        author|               tweet|\n",
      "+------+----------+--------------------+--------+--------------+--------------------+\n",
      "|     0|1468163470|Tue Apr 07 00:03:...|NO_QUERY|        CoriiB|@junebugg15  I ha...|\n",
      "|     0|1468174290|Tue Apr 07 00:07:...|NO_QUERY|   emmaketurah|@GillianMe Yeah h...|\n",
      "|     0|1468268489|Tue Apr 07 00:38:...|NO_QUERY|     ElmosSexy|Nothing was sick ...|\n",
      "|     0|1468566578|Tue Apr 07 02:27:...|NO_QUERY|        djpain|Leanne is angry a...|\n",
      "|     0|1470042551|Tue Apr 07 08:10:...|NO_QUERY|     MCeubanks|Rock Fore Dough i...|\n",
      "|     0|1548667787|Fri Apr 17 21:36:...|NO_QUERY|     LoserLisa|okay. Goodnight T...|\n",
      "|     0|1548725027|Fri Apr 17 21:46:...|NO_QUERY|       skoosie|I accidentally lo...|\n",
      "|     0|1550967115|Sat Apr 18 07:46:...|NO_QUERY| michellehdz95|thinking what i a...|\n",
      "|     0|1551796573|Sat Apr 18 09:59:...|NO_QUERY|        lholow|@Cutieface44 Sorr...|\n",
      "|     0|1551898523|Sat Apr 18 10:15:...|NO_QUERY|     peechxxxx|@Rootsology poor ...|\n",
      "|     0|1551928805|Sat Apr 18 10:20:...|NO_QUERY|        StJoan|@burningsound  po...|\n",
      "|     0|1553490365|Sat Apr 18 14:24:...|NO_QUERY|MyNameIsIngrid|i forgot to tweet...|\n",
      "|     0|1553826081|Sat Apr 18 15:18:...|NO_QUERY|  theu4life219|@makeupgrl LOL......|\n",
      "|     0|1554036516|Sat Apr 18 15:53:...|NO_QUERY|   julieobrien|I completely shat...|\n",
      "|     0|1555782434|Sat Apr 18 20:40:...|NO_QUERY|     Mwahmuzic|1 more day of spr...|\n",
      "|     0|1555954851|Sat Apr 18 21:11:...|NO_QUERY|        gley10|@iamjonathancook ...|\n",
      "|     0|1556241055|Sat Apr 18 22:07:...|NO_QUERY|      armuth09|tough lose for th...|\n",
      "|     0|1556264523|Sat Apr 18 22:11:...|NO_QUERY|        jmreid|@jluebbert I didn...|\n",
      "|     0|1556375132|Sat Apr 18 22:35:...|NO_QUERY|    rachypopsx|    is up so early! |\n",
      "|     0|1556394767|Sat Apr 18 22:40:...|NO_QUERY|      kennyeng|@sheblondeswede D...|\n",
      "+------+----------+--------------------+--------+--------------+--------------------+\n",
      "only showing top 20 rows\n",
      "\n"
     ]
    }
   ],
   "source": [
    "test_set.show()"
   ]
  },
  {
   "cell_type": "markdown",
   "metadata": {
    "id": "mCdVo-z0IHOU"
   },
   "source": [
    "Data Visualization"
   ]
  },
  {
   "cell_type": "code",
   "execution_count": null,
   "metadata": {
    "id": "K07DZI9-H_e1"
   },
   "outputs": [],
   "source": [
    "from sklearn.metrics import ConfusionMatrixDisplay\n",
    "\n",
    "y_true = predictions.select(['label']).collect()\n",
    "y_pred = predictions.select(['prediction']).collect()"
   ]
  },
  {
   "cell_type": "code",
   "execution_count": null,
   "metadata": {
    "colab": {
     "base_uri": "https://localhost:8080/",
     "height": 466
    },
    "id": "Th0S9dpdIBFc",
    "outputId": "51424ad4-4d09-4ee2-cfd6-cabc4cd8fdbe"
   },
   "outputs": [
    {
     "data": {
      "text/plain": [
       "<sklearn.metrics._plot.confusion_matrix.ConfusionMatrixDisplay at 0x7f8bff5ac7c0>"
      ]
     },
     "execution_count": 21,
     "metadata": {},
     "output_type": "execute_result"
    },
    {
     "data": {
      "image/png": "[encoded data removed]",
      "text/plain": [
       "<Figure size 640x480 with 2 Axes>"
      ]
     },
     "metadata": {},
     "output_type": "display_data"
    }
   ],
   "source": [
    "ConfusionMatrixDisplay.from_predictions(y_true, y_pred, labels=[0.0, 1.0], display_labels=[\"negative\", \"positive\"])"
   ]
  },
  {
   "cell_type": "markdown",
   "metadata": {
    "id": "exYBqtU3Ivp-"
   },
   "source": [
    "Live tweet fetching "
   ]
  },
  {
   "cell_type": "code",
   "execution_count": null,
   "metadata": {
    "id": "DW-cXvfrTNCK"
   },
   "outputs": [],
   "source": [
    "# spark1.conf.set(\"spark.sql.execution.arrow.pyspark.enabled\", \"true\")"
   ]
  },
  {
   "cell_type": "code",
   "execution_count": null,
   "metadata": {
    "id": "hOBKsNWgIgb9"
   },
   "outputs": [],
   "source": [
    "self_tweets = []\n",
    "self_tweetText = []\n"
   ]
  },
  {
   "cell_type": "code",
   "execution_count": null,
   "metadata": {
    "colab": {
     "base_uri": "https://localhost:8080/"
    },
    "id": "s1tYi3zpCdo-",
    "outputId": "ab5d4760-2022-4b6f-80bf-8d7f6c936a2b"
   },
   "outputs": [
    {
     "name": "stdout",
     "output_type": "stream",
     "text": [
      "Enter Keyword/Tag to search about: IPL\n",
      "Enter how many tweets to search: 100\n"
     ]
    }
   ],
   "source": [
    "import tweepy\n",
    "import pandas as pd\n",
    "from datetime import datetime\n",
    "consumerKey = \"HzkqDfV6TdmpyL7xkBujJJ3Lf\"\n",
    "consumerSecret =\"WtTqpgp9Uv1OpNpeg3CtOfrKJ7NwMh0GelIXrz3ECPUkXFWjjE\"\n",
    "accessToken =  \"1652625534151704576-BpkZitgvOYYVkHPI897TpshTKHYuxj\"\n",
    "accessTokenSecret = \"yOVNPgAS2DfHqnIlKv8qP6lw84hwDfZFXKjyr0NSfF56W\"\n",
    "auth = tweepy.OAuthHandler(consumerKey, consumerSecret)\n",
    "auth.set_access_token(accessToken, accessTokenSecret)\n",
    "api = tweepy.API(auth)\n",
    "\n",
    "# input for term to be searched and how many tweets to search\n",
    "searchTerm = input(\"Enter Keyword/Tag to search about: \")\n",
    "NoOfTerms = int(input(\"Enter how many tweets to search: \"))\n",
    "\n",
    "# searching for tweets\n",
    "self_tweets = tweepy.Cursor(api.search_tweets, q=searchTerm, lang = \"en\").items(NoOfTerms)\n",
    "\n",
    "col = ['target', 'id', 'date', 'query', 'author', 'tweet']\n",
    "\n",
    "li = []\n",
    "i = 0\n",
    "for tweet in self_tweets:\n",
    "    li.append((0, 123456+i, datetime.utcnow(), 'NO_QUERY', tweet.author.name, tweet.text))\n",
    "    i+=1"
   ]
  },
  {
   "cell_type": "code",
   "execution_count": null,
   "metadata": {
    "id": "BUsx9SQsSFn4"
   },
   "outputs": [],
   "source": [
    "livedf = pd.DataFrame(li, columns=col)"
   ]
  },
  {
   "cell_type": "code",
   "execution_count": null,
   "metadata": {
    "colab": {
     "base_uri": "https://localhost:8080/"
    },
    "id": "S7oip0c7JfLd",
    "outputId": "82682b3a-89da-4209-e54c-d72c0b6c5a66"
   },
   "outputs": [
    {
     "data": {
      "text/plain": [
       "DataFrame[target: int, id: string, date: string, query: string, author: string, tweet: string]"
      ]
     },
     "execution_count": 25,
     "metadata": {},
     "output_type": "execute_result"
    }
   ],
   "source": [
    "live_df = spark1.createDataFrame(livedf, schema = schema) \n",
    "live_df.dropna()"
   ]
  },
  {
   "cell_type": "code",
   "execution_count": null,
   "metadata": {
    "colab": {
     "base_uri": "https://localhost:8080/"
    },
    "id": "ODNlzOa3RFw4",
    "outputId": "473bb5d7-6cb4-4771-d09a-225adfa37bb7"
   },
   "outputs": [
    {
     "name": "stdout",
     "output_type": "stream",
     "text": [
      "+------+------+--------------------+--------+--------------------+--------------------+\n",
      "|target|    id|                date|   query|              author|               tweet|\n",
      "+------+------+--------------------+--------+--------------------+--------------------+\n",
      "|     0|123456|java.util.Gregori...|NO_QUERY|                Akad|RT @thecaspiansk:...|\n",
      "|     0|123457|java.util.Gregori...|NO_QUERY| 😪துரோகம் பண்ணவன்😔|RT @mufaddal_vohr...|\n",
      "|     0|123458|java.util.Gregori...|NO_QUERY|🏟 Featherbed Slo...|@hide_it0 @imVic1...|\n",
      "|     0|123459|java.util.Gregori...|NO_QUERY|        Rajesh M-059|RT @Cricketracker...|\n",
      "|     0|123460|java.util.Gregori...|NO_QUERY|Justin Bieber Ind...|RT @HustlerCSK_: ...|\n",
      "|     0|123461|java.util.Gregori...|NO_QUERY|         The OG 🦁😎|RT @Kohli_Dewotee...|\n",
      "|     0|123462|java.util.Gregori...|NO_QUERY|  Afghan Atalan 🇦🇫|Yet another impre...|\n",
      "|     0|123463|java.util.Gregori...|NO_QUERY|      Ashish A Pawar|RT @bollywood_lif...|\n",
      "|     0|123464|java.util.Gregori...|NO_QUERY|   Rohan Singha 🇮🇳|RT @Rajat__Sharma...|\n",
      "|     0|123465|java.util.Gregori...|NO_QUERY|                🙂🙃|RT @Shebas_10dulk...|\n",
      "|     0|123466|java.util.Gregori...|NO_QUERY|         Pradeep🚩🏹|RT @Cricketracker...|\n",
      "|     0|123467|java.util.Gregori...|NO_QUERY|        vijay vinoth|RT @SPORTYVISHAL:...|\n",
      "|     0|123468|java.util.Gregori...|NO_QUERY|      Madrista Yadav|RT @hyperkohli: R...|\n",
      "|     0|123469|java.util.Gregori...|NO_QUERY|         Pragativadi|#RRvsGT #IPL2023:...|\n",
      "|     0|123470|java.util.Gregori...|NO_QUERY|               maddy|RT @kurkureter: M...|\n",
      "|     0|123471|java.util.Gregori...|NO_QUERY|  Kafil pspkonline-✊|RT @IPL: .@hardik...|\n",
      "|     0|123472|java.util.Gregori...|NO_QUERY|      Shivam Jaiswal|@GlobalEsportsIn ...|\n",
      "|     0|123473|java.util.Gregori...|NO_QUERY|              Quasar|RT @ArfaSays_: PC...|\n",
      "|     0|123474|java.util.Gregori...|NO_QUERY|        Anoop sunkad|RT @Shebas_10dulk...|\n",
      "|     0|123475|java.util.Gregori...|NO_QUERY|                 शुभ|RT @i_am_gustaakh...|\n",
      "+------+------+--------------------+--------+--------------------+--------------------+\n",
      "only showing top 20 rows\n",
      "\n"
     ]
    }
   ],
   "source": [
    "# live_df.show()"
   ]
  },
  {
   "cell_type": "code",
   "execution_count": null,
   "metadata": {
    "id": "tuze8WcpJsYp"
   },
   "outputs": [],
   "source": [
    "predictions = pipelineFit.transform(live_df)"
   ]
  },
  {
   "cell_type": "code",
   "execution_count": null,
   "metadata": {
    "colab": {
     "base_uri": "https://localhost:8080/"
    },
    "id": "NSCgsMJOS187",
    "outputId": "ae10be3b-91dd-4ba5-e687-7331a3a9497e"
   },
   "outputs": [
    {
     "name": "stdout",
     "output_type": "stream",
     "text": [
      "+------+------+--------------------+--------+--------------------+--------------------+--------------------+--------------------+--------------------+--------------------+-----+--------------------+--------------------+----------+\n",
      "|target|    id|                date|   query|              author|               tweet|                  tk|               words|                  tf|            features|label|       rawPrediction|         probability|prediction|\n",
      "+------+------+--------------------+--------+--------------------+--------------------+--------------------+--------------------+--------------------+--------------------+-----+--------------------+--------------------+----------+\n",
      "|     0|123456|java.util.Gregori...|NO_QUERY|                Akad|RT @thecaspiansk:...|[rt, @thecaspians...|[rt, tomorrow, #n...|(262144,[8977,291...|(262144,[8977,291...|  1.0|[-182.20312248351...|[7.41633467489450...|       1.0|\n",
      "|     0|123457|java.util.Gregori...|NO_QUERY| 😪துரோகம் பண்ணவன்😔|RT @mufaddal_vohr...|[rt, @mufaddal_vo...|[rt, ipl, 2023, p...|(262144,[18176,29...|(262144,[18176,29...|  1.0|[-270.02353721988...|[5.37363051378089...|       1.0|\n",
      "|     0|123458|java.util.Gregori...|NO_QUERY|🏟 Featherbed Slo...|@hide_it0 @imVic1...|[@hide_it0, @imvi...|[bro, avan, play,...|(262144,[45959,59...|(262144,[45959,59...|  1.0|[22.9412808939191...|[0.99999999989117...|       0.0|\n",
      "|     0|123459|java.util.Gregori...|NO_QUERY|        Rajesh M-059|RT @Cricketracker...|[rt, @cricketrack...|[rt, mr, ipl, rea...|(262144,[63910,77...|(262144,[63910,77...|  1.0|[-89.344074930786...|[1.57892414777932...|       1.0|\n",
      "|     0|123460|java.util.Gregori...|NO_QUERY|Justin Bieber Ind...|RT @HustlerCSK_: ...|[rt, @hustlercsk_...|[rt, live, societ...|(262144,[1303,292...|(262144,[1303,292...|  1.0|[-497.65885442879...|[7.40466902751303...|       1.0|\n",
      "|     0|123461|java.util.Gregori...|NO_QUERY|         The OG 🦁😎|RT @Kohli_Dewotee...|[rt, @kohli_dewot...|[rt, big, breakin...|(262144,[58576,59...|(262144,[58576,59...|  1.0|[-91.030824194249...|[2.9229095035171E...|       1.0|\n",
      "|     0|123462|java.util.Gregori...|NO_QUERY|  Afghan Atalan 🇦🇫|Yet another impre...|[yet, another, im...|[yet, another, im...|(262144,[5561,343...|(262144,[5561,343...|  1.0|[-111.68520742972...|[3.13134344144349...|       1.0|\n",
      "|     0|123463|java.util.Gregori...|NO_QUERY|      Ashish A Pawar|RT @bollywood_lif...|[rt, @bollywood_l...|[rt, shah, rukh, ...|(262144,[14385,37...|(262144,[14385,37...|  1.0|[-212.55868269806...|[4.86336677624685...|       1.0|\n",
      "|     0|123464|java.util.Gregori...|NO_QUERY|   Rohan Singha 🇮🇳|RT @Rajat__Sharma...|[rt, @rajat__shar...|[rt, popular, cri...|(262144,[1512,602...|(262144,[1512,602...|  1.0|[26.3246695295589...|[0.99999999999630...|       0.0|\n",
      "|     0|123465|java.util.Gregori...|NO_QUERY|                🙂🙃|RT @Shebas_10dulk...|[rt, @shebas_10du...|[rt, times, scori...|(262144,[6533,825...|(262144,[6533,825...|  1.0|[120.244617608614...|           [1.0,0.0]|       0.0|\n",
      "|     0|123466|java.util.Gregori...|NO_QUERY|         Pradeep🚩🏹|RT @Cricketracker...|[rt, @cricketrack...|[rt, mr, ipl, rea...|(262144,[63910,77...|(262144,[63910,77...|  1.0|[-89.344074930786...|[1.57892414777932...|       1.0|\n",
      "|     0|123467|java.util.Gregori...|NO_QUERY|        vijay vinoth|RT @SPORTYVISHAL:...|[rt, @sportyvisha...|[rt, •, 10, ipl, ...|(262144,[12524,16...|(262144,[12524,16...|  1.0|[-459.58505496982...|[2.53949090283602...|       1.0|\n",
      "|     0|123468|java.util.Gregori...|NO_QUERY|      Madrista Yadav|RT @hyperkohli: R...|[rt, @hyperkohli:...|[rt, riyan, parag...|(262144,[77407,87...|(262144,[77407,87...|  1.0|[-241.27869058417...|[1.63680174153157...|       1.0|\n",
      "|     0|123469|java.util.Gregori...|NO_QUERY|         Pragativadi|#RRvsGT #IPL2023:...|[#rrvsgt, #ipl202...|[#rrvsgt, #ipl202...|(262144,[19315,56...|(262144,[19315,56...|  1.0|[-15.149121148625...|[2.63523994563211...|       1.0|\n",
      "|     0|123470|java.util.Gregori...|NO_QUERY|               maddy|RT @kurkureter: M...|[rt, @kurkureter:...|[rt, ms, dhoni, l...|(262144,[23859,77...|(262144,[23859,77...|  1.0|[-52.559362175180...|[1.49196637353558...|       1.0|\n",
      "|     0|123471|java.util.Gregori...|NO_QUERY|  Kafil pspkonline-✊|RT @IPL: .@hardik...|[rt, @ipl:, .@har...|[rt, put, show, t...|(262144,[6967,333...|(262144,[6967,333...|  1.0|[3.48555767407354...|[0.97027403610959...|       0.0|\n",
      "|     0|123472|java.util.Gregori...|NO_QUERY|      Shivam Jaiswal|@GlobalEsportsIn ...|[@globalesportsin...|[try, five, mad, ...|(262144,[12710,14...|(262144,[12710,14...|  1.0|[38.6793493015345...|           [1.0,0.0]|       0.0|\n",
      "|     0|123473|java.util.Gregori...|NO_QUERY|              Quasar|RT @ArfaSays_: PC...|[rt, @arfasays_:,...|[rt, pcb, asked, ...|(262144,[1519,170...|(262144,[1519,170...|  1.0|[-54.704374400818...|[1.74659439349485...|       1.0|\n",
      "|     0|123474|java.util.Gregori...|NO_QUERY|        Anoop sunkad|RT @Shebas_10dulk...|[rt, @shebas_10du...|[rt, times, scori...|(262144,[6533,825...|(262144,[6533,825...|  1.0|[120.244617608614...|           [1.0,0.0]|       0.0|\n",
      "|     0|123475|java.util.Gregori...|NO_QUERY|                 शुभ|RT @i_am_gustaakh...|[rt, @i_am_gustaa...|[rt, post, match,...|(262144,[48689,68...|(262144,[48689,68...|  1.0|[55.1028470405376...|           [1.0,0.0]|       0.0|\n",
      "+------+------+--------------------+--------+--------------------+--------------------+--------------------+--------------------+--------------------+--------------------+-----+--------------------+--------------------+----------+\n",
      "only showing top 20 rows\n",
      "\n"
     ]
    }
   ],
   "source": [
    "# predictions.show()"
   ]
  },
  {
   "cell_type": "code",
   "execution_count": null,
   "metadata": {
    "colab": {
     "base_uri": "https://localhost:8080/"
    },
    "id": "F4D1VIx0S2wx",
    "outputId": "35a035c1-2f92-47a6-ef84-ca211e221b6c"
   },
   "outputs": [
    {
     "name": "stdout",
     "output_type": "stream",
     "text": [
      "+----------+\n",
      "|prediction|\n",
      "+----------+\n",
      "|       1.0|\n",
      "|       1.0|\n",
      "|       0.0|\n",
      "|       1.0|\n",
      "|       1.0|\n",
      "|       1.0|\n",
      "|       1.0|\n",
      "|       1.0|\n",
      "|       0.0|\n",
      "|       0.0|\n",
      "|       1.0|\n",
      "|       1.0|\n",
      "|       1.0|\n",
      "|       1.0|\n",
      "|       1.0|\n",
      "|       0.0|\n",
      "|       0.0|\n",
      "|       1.0|\n",
      "|       0.0|\n",
      "|       0.0|\n",
      "+----------+\n",
      "only showing top 20 rows\n",
      "\n"
     ]
    }
   ],
   "source": [
    "predictions.select(['prediction']).show()"
   ]
  },
  {
   "cell_type": "code",
   "execution_count": null,
   "metadata": {
    "id": "bud4UzhES8UR"
   },
   "outputs": [],
   "source": [
    "live_df = predictions.select([\"prediction\"]).toPandas()"
   ]
  },
  {
   "cell_type": "code",
   "execution_count": null,
   "metadata": {
    "colab": {
     "base_uri": "https://localhost:8080/",
     "height": 472
    },
    "id": "BFCfNNEIS8VO",
    "outputId": "dc6c335d-63b2-42fd-ec3b-c55ed73ab2f4"
   },
   "outputs": [
    {
     "data": {
      "image/png": "[encoded data removed]",
      "text/plain": [
       "<Figure size 640x480 with 1 Axes>"
      ]
     },
     "metadata": {},
     "output_type": "display_data"
    }
   ],
   "source": [
    "import matplotlib.pyplot as plt\n",
    "value_counts = live_df['prediction'].value_counts()\n",
    "\n",
    "plt.bar(value_counts.index, value_counts.values)\n",
    "\n",
    "# Set labels and title\n",
    "plt.title(f'Sentiment analysis on live tweet, which is about {searchTerm}.')\n",
    "plt.xlabel('positive and negative level')\n",
    "plt.ylabel('Tweet Count')\n",
    "\n",
    "# Show the chart\n",
    "plt.show()"
   ]
  },
  {
   "cell_type": "markdown",
   "metadata": {
    "id": "Zzg5TVe0I53O"
   },
   "source": [
    "CountVectorizer + NGram + ChisQSelector"
   ]
  },
  {
   "cell_type": "code",
   "execution_count": null,
   "metadata": {
    "id": "K_kd-B6TI8y-"
   },
   "outputs": [],
   "source": [
    "def build_trigrams(inputCol=[\"tweet\",\"target\"], n=3):\n",
    "    \n",
    "    tokenizer = [Tokenizer(inputCol=\"tweet\", outputCol=\"words\")]\n",
    "    \n",
    "    ngrams = [\n",
    "        NGram(n=i, inputCol=\"words\", outputCol=\"{0}_grams\".format(i))\n",
    "        for i in range(1, n + 1)\n",
    "    ]\n",
    "\n",
    "    cv = [\n",
    "        CountVectorizer(vocabSize=2**14,inputCol=\"{0}_grams\".format(i),\n",
    "            outputCol=\"{0}_tf\".format(i))\n",
    "        for i in range(1, n + 1)\n",
    "    ]\n",
    "    \n",
    "    idf = [IDF(inputCol=\"{0}_tf\".format(i), outputCol=\"{0}_tfidf\".format(i), minDocFreq=5) for i in range(1, n + 1)]\n",
    "\n",
    "    assembler = [VectorAssembler(\n",
    "        inputCols=[\"{0}_tfidf\".format(i) for i in range(1, n + 1)],\n",
    "        outputCol=\"rawFeatures\"\n",
    "    )]\n",
    "    \n",
    "    label_stringIdx = [StringIndexer(inputCol = \"target\", outputCol = \"label\")]\n",
    "    \n",
    "    selector = [ChiSqSelector(numTopFeatures=2**14,featuresCol='rawFeatures', outputCol=\"features\")]\n",
    "    \n",
    "    lr = [LogisticRegression()]\n",
    "    \n",
    "    return Pipeline(stages=tokenizer + ngrams + cv + idf + assembler + label_stringIdx + selector + lr)"
   ]
  },
  {
   "cell_type": "code",
   "execution_count": null,
   "metadata": {
    "colab": {
     "base_uri": "https://localhost:8080/"
    },
    "id": "gbI2X-lzJBDA",
    "outputId": "7ee559cf-b050-4ba2-960b-2d7ea20a02f8"
   },
   "outputs": [
    {
     "name": "stdout",
     "output_type": "stream",
     "text": [
      "Accuracy: 0.6426846933848382\n",
      "Precision: 0.6428012477714546\n",
      "Recall: 0.6426846933848382\n",
      "CPU times: user 4.71 s, sys: 576 ms, total: 5.28 s\n",
      "Wall time: 12min 49s\n"
     ]
    }
   ],
   "source": [
    "%%time\n",
    "\n",
    "# import datetime\n",
    "# st = datetime.utcnow()\n",
    "pipelineFit = build_trigrams().fit(train_set)\n",
    "# print('Training time:', datetime.utcnow() - st)\n",
    "predictions = pipelineFit.transform(test_set)\n",
    "accuracy = evaluator.evaluate(predictions, {evaluator.metricName: \"accuracy\"})\n",
    "precision = evaluator.evaluate(predictions, {evaluator.metricName: \"weightedPrecision\"})\n",
    "recall = evaluator.evaluate(predictions, {evaluator.metricName: \"weightedRecall\"})\n",
    "\n",
    "# Print the results\n",
    "print(\"Accuracy:\", accuracy)\n",
    "print(\"Precision:\", precision)\n",
    "print(\"Recall:\", recall)"
   ]
  },
  {
   "cell_type": "markdown",
   "metadata": {
    "id": "anwFclywXeSJ"
   },
   "source": [
    "Data visualisation"
   ]
  },
  {
   "cell_type": "code",
   "execution_count": null,
   "metadata": {
    "id": "L9xInFrqXrxm"
   },
   "outputs": [],
   "source": [
    "from sklearn.metrics import ConfusionMatrixDisplay\n",
    "\n",
    "y_true = predictions.select(['label']).collect()\n",
    "y_pred = predictions.select(['prediction']).collect()"
   ]
  },
  {
   "cell_type": "code",
   "execution_count": null,
   "metadata": {
    "colab": {
     "base_uri": "https://localhost:8080/",
     "height": 466
    },
    "id": "winQ3cRQXwIO",
    "outputId": "0f620e37-0771-4e30-ecf7-7673e5dfe49d"
   },
   "outputs": [
    {
     "data": {
      "text/plain": [
       "<sklearn.metrics._plot.confusion_matrix.ConfusionMatrixDisplay at 0x7f8c043c4d30>"
      ]
     },
     "execution_count": 36,
     "metadata": {},
     "output_type": "execute_result"
    },
    {
     "data": {
      "image/png": "[encoded data removed]",
      "text/plain": [
       "<Figure size 640x480 with 2 Axes>"
      ]
     },
     "metadata": {},
     "output_type": "display_data"
    }
   ],
   "source": [
    "ConfusionMatrixDisplay.from_predictions(y_true, y_pred, labels=[0.0, 1.0], display_labels=[\"negative\", \"positive\"])"
   ]
  },
  {
   "cell_type": "markdown",
   "metadata": {
    "id": "9kygGLoRSmFo"
   },
   "source": [
    "Support Vector Machine"
   ]
  },
  {
   "cell_type": "code",
   "execution_count": null,
   "metadata": {
    "id": "lUhAnRJOSrHC"
   },
   "outputs": [],
   "source": [
    "from pyspark.ml.classification import LinearSVC\n"
   ]
  },
  {
   "cell_type": "markdown",
   "metadata": {
    "id": "wL8KECc6TSde"
   },
   "source": [
    "Creation of pipeline"
   ]
  },
  {
   "cell_type": "code",
   "execution_count": null,
   "metadata": {
    "id": "54ZmtnHrTV_f"
   },
   "outputs": [],
   "source": [
    "tokenizer = Tokenizer(inputCol=\"tweet\", outputCol=\"words\")\n",
    "hashtf = HashingTF(inputCol=\"words\", outputCol='tf')\n",
    "idf = IDF(inputCol='tf', outputCol=\"features\")\n",
    "label_stringIdx = StringIndexer(inputCol = \"target\", outputCol = \"label\")\n",
    "\n",
    "svm = LinearSVC()\n",
    "evaluator = MulticlassClassificationEvaluator(predictionCol=\"prediction\")\n",
    "\n",
    "pipeline = Pipeline(stages=[tokenizer, hashtf, idf, label_stringIdx, svm])"
   ]
  },
  {
   "cell_type": "code",
   "execution_count": null,
   "metadata": {
    "colab": {
     "base_uri": "https://localhost:8080/"
    },
    "id": "TNJTy8aqTaov",
    "outputId": "433b2454-7959-4ae9-f64f-0913e9210d59"
   },
   "outputs": [
    {
     "name": "stdout",
     "output_type": "stream",
     "text": [
      "Accuracy: 0.6982134234669242\n",
      "Precision: 0.6982037625849091\n",
      "Recall: 0.6982134234669242\n",
      "CPU times: user 1.43 s, sys: 236 ms, total: 1.67 s\n",
      "Wall time: 3min 2s\n"
     ]
    }
   ],
   "source": [
    "%%time\n",
    "pipelineFit = pipeline.fit(train_set)\n",
    "\n",
    "predictions = pipelineFit.transform(test_set)\n",
    "\n",
    "accuracy = evaluator.evaluate(predictions, {evaluator.metricName: \"accuracy\"})\n",
    "precision = evaluator.evaluate(predictions, {evaluator.metricName: \"weightedPrecision\"})\n",
    "recall = evaluator.evaluate(predictions, {evaluator.metricName: \"weightedRecall\"})\n",
    "\n",
    "# Print the results\n",
    "print(\"Accuracy:\", accuracy)\n",
    "print(\"Precision:\", precision)\n",
    "print(\"Recall:\", recall)"
   ]
  },
  {
   "cell_type": "markdown",
   "metadata": {
    "id": "fDQ8Xk_kYdaz"
   },
   "source": [
    "HashingTF - IDF"
   ]
  },
  {
   "cell_type": "code",
   "execution_count": null,
   "metadata": {
    "id": "W6NuS8mkTdZA"
   },
   "outputs": [],
   "source": [
    "tokenizer = Tokenizer(inputCol=\"tweet\", outputCol=\"words\")\n",
    "hashtf = HashingTF(numFeatures=2**16, inputCol=\"words\", outputCol='tf')\n",
    "idf = IDF(inputCol='tf', outputCol=\"features\", minDocFreq=5) #minDocFreq: remove sparse terms\n",
    "\n",
    "label_stringIdx = StringIndexer(inputCol = \"target\", outputCol = \"label\")\n",
    "\n",
    "svm = LinearSVC()\n",
    "evaluator = MulticlassClassificationEvaluator(predictionCol=\"prediction\")\n",
    "\n",
    "pipeline = Pipeline(stages=[tokenizer, hashtf, idf, label_stringIdx, svm])"
   ]
  },
  {
   "cell_type": "code",
   "execution_count": null,
   "metadata": {
    "colab": {
     "base_uri": "https://localhost:8080/"
    },
    "id": "GwTkcTBBYgAh",
    "outputId": "3d8972a1-61fd-4d04-ae79-fa89b0feec4e"
   },
   "outputs": [
    {
     "name": "stdout",
     "output_type": "stream",
     "text": [
      "Accuracy: 0.6938676967648479\n",
      "Precision: 0.6944152122196121\n",
      "Recall: 0.6938676967648478\n",
      "CPU times: user 930 ms, sys: 198 ms, total: 1.13 s\n",
      "Wall time: 1min 29s\n"
     ]
    }
   ],
   "source": [
    "%%time\n",
    "pipelineFit = pipeline.fit(train_set)\n",
    "\n",
    "predictions = pipelineFit.transform(test_set)\n",
    "\n",
    "accuracy = evaluator.evaluate(predictions, {evaluator.metricName: \"accuracy\"})\n",
    "precision = evaluator.evaluate(predictions, {evaluator.metricName: \"weightedPrecision\"})\n",
    "recall = evaluator.evaluate(predictions, {evaluator.metricName: \"weightedRecall\"})\n",
    "\n",
    "# Print the results\n",
    "print(\"Accuracy:\", accuracy)\n",
    "print(\"Precision:\", precision)\n",
    "print(\"Recall:\", recall)"
   ]
  },
  {
   "cell_type": "code",
   "execution_count": null,
   "metadata": {
    "colab": {
     "base_uri": "https://localhost:8080/",
     "height": 466
    },
    "id": "cu28HEYhbNlB",
    "outputId": "a928f282-7f41-4bce-cdc0-26218349a87e"
   },
   "outputs": [
    {
     "data": {
      "text/plain": [
       "<sklearn.metrics._plot.confusion_matrix.ConfusionMatrixDisplay at 0x7f8c0c2368c0>"
      ]
     },
     "execution_count": 42,
     "metadata": {},
     "output_type": "execute_result"
    },
    {
     "data": {
      "image/png": "[encoded data removed]",
      "text/plain": [
       "<Figure size 640x480 with 2 Axes>"
      ]
     },
     "metadata": {},
     "output_type": "display_data"
    }
   ],
   "source": [
    "from sklearn.metrics import ConfusionMatrixDisplay\n",
    "\n",
    "y_true = predictions.select(['label']).collect()\n",
    "y_pred = predictions.select(['prediction']).collect()\n",
    "\n",
    "ConfusionMatrixDisplay.from_predictions(y_true, y_pred, labels=[0.0, 1.0], display_labels=[\"negative\", \"positive\"])"
   ]
  },
  {
   "cell_type": "markdown",
   "metadata": {
    "id": "3lnX5z5vbtmy"
   },
   "source": [
    "Live tweet fetching"
   ]
  },
  {
   "cell_type": "code",
   "execution_count": null,
   "metadata": {
    "id": "_R2Fh6nFbNl0"
   },
   "outputs": [],
   "source": [
    "self_tweets = []\n",
    "self_tweetText = []"
   ]
  },
  {
   "cell_type": "code",
   "execution_count": null,
   "metadata": {
    "colab": {
     "base_uri": "https://localhost:8080/"
    },
    "id": "wX44YDnHbmL5",
    "outputId": "21311e0e-8603-47cc-d54f-ed1ac216c304"
   },
   "outputs": [
    {
     "name": "stdout",
     "output_type": "stream",
     "text": [
      "Enter Keyword/Tag to search about: Chat Gpt\n",
      "Enter how many tweets to search: 100\n"
     ]
    }
   ],
   "source": [
    "import tweepy\n",
    "import pandas as pd\n",
    "from datetime import datetime\n",
    "consumerKey = \"HzkqDfV6TdmpyL7xkBujJJ3Lf\"\n",
    "consumerSecret =\"WtTqpgp9Uv1OpNpeg3CtOfrKJ7NwMh0GelIXrz3ECPUkXFWjjE\"\n",
    "accessToken =  \"1652625534151704576-BpkZitgvOYYVkHPI897TpshTKHYuxj\"\n",
    "accessTokenSecret = \"yOVNPgAS2DfHqnIlKv8qP6lw84hwDfZFXKjyr0NSfF56W\"\n",
    "auth = tweepy.OAuthHandler(consumerKey, consumerSecret)\n",
    "auth.set_access_token(accessToken, accessTokenSecret)\n",
    "api = tweepy.API(auth)\n",
    "\n",
    "# input for term to be searched and how many tweets to search\n",
    "searchTerm = input(\"Enter Keyword/Tag to search about: \")\n",
    "NoOfTerms = int(input(\"Enter how many tweets to search: \"))\n",
    "\n",
    "# searching for tweets\n",
    "self_tweets = tweepy.Cursor(api.search_tweets, q=searchTerm, lang = \"en\").items(NoOfTerms)\n",
    "\n",
    "col = ['target', 'id', 'date', 'query', 'author', 'tweet']\n",
    "\n",
    "li = []\n",
    "i = 0\n",
    "for tweet in self_tweets:\n",
    "    li.append((0, 123456+i, datetime.utcnow(), 'NO_QUERY', tweet.author.name, tweet.text))\n",
    "    i+=1"
   ]
  },
  {
   "cell_type": "code",
   "execution_count": null,
   "metadata": {
    "colab": {
     "base_uri": "https://localhost:8080/"
    },
    "id": "JuvO0bYPcU8i",
    "outputId": "90c9028a-a057-4647-b478-11c720d57b8a"
   },
   "outputs": [
    {
     "data": {
      "text/plain": [
       "DataFrame[target: int, id: string, date: string, query: string, author: string, tweet: string]"
      ]
     },
     "execution_count": 45,
     "metadata": {},
     "output_type": "execute_result"
    }
   ],
   "source": [
    "livedf = spark1.createDataFrame(livedf, schema = schema) \n",
    "livedf.dropna()"
   ]
  },
  {
   "cell_type": "code",
   "execution_count": null,
   "metadata": {
    "id": "4ZNL4s9pcbdp"
   },
   "outputs": [],
   "source": [
    "predictions = pipelineFit.transform(livedf)"
   ]
  },
  {
   "cell_type": "code",
   "execution_count": null,
   "metadata": {
    "id": "nJb9dcd-ciKZ"
   },
   "outputs": [],
   "source": [
    "livedf = predictions.select([\"prediction\"]).toPandas()"
   ]
  },
  {
   "cell_type": "code",
   "execution_count": null,
   "metadata": {
    "colab": {
     "base_uri": "https://localhost:8080/",
     "height": 472
    },
    "id": "LYuqSXPPdEnj",
    "outputId": "bac9094d-94e6-4313-9baa-6c315ee4b45d"
   },
   "outputs": [
    {
     "data": {
      "image/png": "[encoded data removed]",
      "text/plain": [
       "<Figure size 640x480 with 1 Axes>"
      ]
     },
     "metadata": {},
     "output_type": "display_data"
    }
   ],
   "source": [
    "import matplotlib.pyplot as plt\n",
    "value_counts = livedf['prediction'].value_counts()\n",
    "\n",
    "plt.bar(value_counts.index, value_counts.values)\n",
    "\n",
    "# Set labels and title\n",
    "plt.title('Sentiment analysis on live tweet!')\n",
    "plt.xlabel('positive and negative level')\n",
    "plt.ylabel('Tweet Count')\n",
    "\n",
    "# Show the chart\n",
    "plt.show()"
   ]
  },
  {
   "cell_type": "markdown",
   "metadata": {
    "id": "-G0GvO9lcSSf"
   },
   "source": [
    "CountVectorizer + NGram + ChisQSelector"
   ]
  },
  {
   "cell_type": "code",
   "execution_count": null,
   "metadata": {
    "id": "Bhn_MuOoZ9aD"
   },
   "outputs": [],
   "source": [
    "def build_trigrams(inputCol=[\"tweet\",\"target\"], n=3):\n",
    "    \n",
    "    tokenizer = [Tokenizer(inputCol=\"tweet\", outputCol=\"words\")]\n",
    "    \n",
    "    ngrams = [\n",
    "        NGram(n=i, inputCol=\"words\", outputCol=\"{0}_grams\".format(i))\n",
    "        for i in range(1, n + 1)\n",
    "    ]\n",
    "\n",
    "    cv = [\n",
    "        CountVectorizer(vocabSize=2**14,inputCol=\"{0}_grams\".format(i),\n",
    "            outputCol=\"{0}_tf\".format(i))\n",
    "        for i in range(1, n + 1)\n",
    "    ]\n",
    "    \n",
    "    idf = [IDF(inputCol=\"{0}_tf\".format(i), outputCol=\"{0}_tfidf\".format(i), minDocFreq=5) for i in range(1, n + 1)]\n",
    "\n",
    "    assembler = [VectorAssembler(\n",
    "        inputCols=[\"{0}_tfidf\".format(i) for i in range(1, n + 1)],\n",
    "        outputCol=\"rawFeatures\"\n",
    "    )]\n",
    "    \n",
    "    label_stringIdx = [StringIndexer(inputCol = \"target\", outputCol = \"label\")]\n",
    "    \n",
    "    selector = [ChiSqSelector(numTopFeatures=2**14,featuresCol='rawFeatures', outputCol=\"features\")]\n",
    "    \n",
    "    svm = [LinearSVC()]\n",
    "    \n",
    "    return Pipeline(stages=tokenizer + ngrams + cv + idf + assembler + label_stringIdx + selector + svm)"
   ]
  },
  {
   "cell_type": "code",
   "execution_count": null,
   "metadata": {
    "colab": {
     "base_uri": "https://localhost:8080/"
    },
    "id": "tlU5QXx6cTAW",
    "outputId": "14070cd8-707a-454c-d4a2-7bf891082c55"
   },
   "outputs": [
    {
     "name": "stdout",
     "output_type": "stream",
     "text": [
      "Accuracy: 0.6702076291646547\n",
      "Precision: 0.6704259394365999\n",
      "Recall: 0.6702076291646548\n",
      "CPU times: user 7.93 s, sys: 891 ms, total: 8.82 s\n",
      "Wall time: 22min 30s\n"
     ]
    }
   ],
   "source": [
    "%%time\n",
    "pipelineFit = build_trigrams().fit(train_set)\n",
    "\n",
    "predictions = pipelineFit.transform(test_set)\n",
    "\n",
    "accuracy = evaluator.evaluate(predictions, {evaluator.metricName: \"accuracy\"})\n",
    "precision = evaluator.evaluate(predictions, {evaluator.metricName: \"weightedPrecision\"})\n",
    "recall = evaluator.evaluate(predictions, {evaluator.metricName: \"weightedRecall\"})\n",
    "\n",
    "# Print the results\n",
    "print(\"Accuracy:\", accuracy)\n",
    "print(\"Precision:\", precision)\n",
    "print(\"Recall:\", recall)"
   ]
  },
  {
   "cell_type": "markdown",
   "metadata": {
    "id": "i6FGvzO1dBDy"
   },
   "source": [
    "Stats"
   ]
  },
  {
   "cell_type": "code",
   "execution_count": null,
   "metadata": {
    "colab": {
     "base_uri": "https://localhost:8080/",
     "height": 466
    },
    "id": "qQ1s3heBdDRX",
    "outputId": "b5c40d0b-9fa9-48c1-ab47-50578507ff64"
   },
   "outputs": [
    {
     "data": {
      "text/plain": [
       "<sklearn.metrics._plot.confusion_matrix.ConfusionMatrixDisplay at 0x7f8bff09ac20>"
      ]
     },
     "execution_count": 51,
     "metadata": {},
     "output_type": "execute_result"
    },
    {
     "data": {
      "image/png": "[encoded data removed]",
      "text/plain": [
       "<Figure size 640x480 with 2 Axes>"
      ]
     },
     "metadata": {},
     "output_type": "display_data"
    }
   ],
   "source": [
    "from sklearn.metrics import ConfusionMatrixDisplay\n",
    "\n",
    "y_true = predictions.select(['label']).collect()\n",
    "y_pred = predictions.select(['prediction']).collect()\n",
    "\n",
    "ConfusionMatrixDisplay.from_predictions(y_true, y_pred, labels=[0.0, 1.0], display_labels=[\"negative\", \"positive\"])"
   ]
  },
  {
   "cell_type": "code",
   "execution_count": null,
   "metadata": {
    "id": "_1aLlngxOq5E"
   },
   "outputs": [],
   "source": []
  }
 ],
 "metadata": {
  "colab": {
   "gpuType": "T4",
   "provenance": []
  },
  "gpuClass": "standard",
  "kernelspec": {
   "display_name": "Python 3 (ipykernel)",
   "language": "python",
   "name": "python3"
  },
  "language_info": {
   "codemirror_mode": {
    "name": "ipython",
    "version": 3
   },
   "file_extension": ".py",
   "mimetype": "text/x-python",
   "name": "python",
   "nbconvert_exporter": "python",
   "pygments_lexer": "ipython3",
   "version": "3.9.12"
  }
 },
 "nbformat": 4,
 "nbformat_minor": 1
}
